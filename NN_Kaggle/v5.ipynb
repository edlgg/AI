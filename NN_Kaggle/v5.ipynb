{
 "cells": [
  {
   "cell_type": "code",
   "execution_count": 1,
   "metadata": {},
   "outputs": [
    {
     "name": "stderr",
     "output_type": "stream",
     "text": "/Users/edlgg/GoogleDrive/Essex/Neural Networks and Deep Learning/Project/Kaggle/AI/NN_Kaggle/venv/lib/python3.7/site-packages/IPython/core/interactiveshell.py:3242: DtypeWarning: Columns (7) have mixed types. Specify dtype option on import or set low_memory=False.\n  if (await self.run_code(code, result,  async_=asy)):\n"
    }
   ],
   "source": [
    "import pandas as pd\n",
    "import numpy as np\n",
    "\n",
    "def loadData():\n",
    "    train_raw = pd.read_csv(\"data/train.csv\", header=0).sample(frac=1) # Eduardo\n",
    "    test_raw = pd.read_csv(\"data/test.csv\", header=0) # Eduardo\n",
    "    store_raw = pd.read_csv(\"data/store.csv\", header=0) # Eduardo\n",
    "\n",
    "    train_raw.drop(\"Customers\", inplace=True, axis=1) # Drop customers colum because it is not present on test set.\n",
    "    test_raw.drop(\"Id\", inplace=True, axis=1) # Not relevant\n",
    "\n",
    "    test_raw[\"Sales\"] = [0] * len(test_raw)\n",
    "\n",
    "    return train_raw, test_raw, store_raw\n",
    "    \n",
    "train_raw, test_raw, store_raw = loadData()"
   ]
  },
  {
   "cell_type": "code",
   "execution_count": 2,
   "metadata": {},
   "outputs": [],
   "source": [
    "from sklearn.base import BaseEstimator, TransformerMixin\n",
    "\n",
    "class VoidTransformer(BaseEstimator, TransformerMixin):\n",
    "  def __init__(self):\n",
    "    return\n",
    "  def fit(self, X, y=None):\n",
    "    return self\n",
    "  def transform(self, X, y=None):\n",
    "    return X\n",
    "\n",
    "class DateSplitter(BaseEstimator, TransformerMixin):\n",
    "  def __init__(self):\n",
    "    return\n",
    "  def fit(self, X, y=None):\n",
    "    return self\n",
    "  def transform(self, X, y=None):\n",
    "    days = []\n",
    "    for date in X[\"Date\"]: # NOTE: Se podra paralelizar?\n",
    "      year, month, day = date.split(\"-\")\n",
    "      total = int(year) * 365 + int(month) * 30 + int(day)\n",
    "      days.append(total)\n",
    "    return np.c_[days]"
   ]
  },
  {
   "cell_type": "code",
   "execution_count": 3,
   "metadata": {},
   "outputs": [],
   "source": [
    "from sklearn.compose import ColumnTransformer\n",
    "from sklearn.impute import SimpleImputer\n",
    "from sklearn.preprocessing import OneHotEncoder\n",
    "from sklearn.pipeline import Pipeline"
   ]
  },
  {
   "cell_type": "code",
   "execution_count": 4,
   "metadata": {},
   "outputs": [],
   "source": [
    "features_pipeline = ColumnTransformer([\n",
    "                                  (\"nothing1\", VoidTransformer(),  [\"Store\"]),\n",
    "                                  (\"Categorical1\", OneHotEncoder(), [\"DayOfWeek\"]),\n",
    "                                  (\"date\", DateSplitter(), [\"Date\"]),\n",
    "                                  (\"nothing2\", VoidTransformer(), [\"Open\", \"Promo\"]),\n",
    "                                  # (\"Categorical2\", OneHotEncoder(), [\"StateHoliday\"]), # NOTE: Should one hot\n",
    "                                  (\"nothing3\", VoidTransformer(), [\"SchoolHoliday\", \"Sales\"]),\n",
    "\n",
    "])\n",
    "train_prepared = features_pipeline.fit_transform(train_raw)\n",
    "train_prepared = pd.DataFrame(train_prepared)\n",
    "train_prepared.rename(columns = {0:'Store', 12:'Sales', 8:'Days'}, inplace = True)\n",
    "\n",
    "test_prepared = features_pipeline.fit_transform(test_raw)\n",
    "test_prepared = pd.DataFrame(test_prepared)\n",
    "test_prepared.rename(columns = {0:'Store', 12:'Sales', 8:'Days'}, inplace = True)"
   ]
  },
  {
   "cell_type": "code",
   "execution_count": 5,
   "metadata": {},
   "outputs": [],
   "source": [
    "nan_onehot_pipeline = Pipeline([\n",
    "            (\"nan_to_0\", SimpleImputer(strategy=\"constant\")),\n",
    "            (\"one_hot\", OneHotEncoder())                    \n",
    "])\n",
    "\n",
    "store_pipeline = ColumnTransformer([\n",
    "                                  (\"nothing1\", SimpleImputer(strategy='constant', fill_value=1), [\"Store\"]),\n",
    "                                  (\"Categorial1\", nan_onehot_pipeline, [\"StoreType\", \"Assortment\"]),\n",
    "                                  (\"CompetitionDistance\", SimpleImputer(strategy='mean'), [\"CompetitionDistance\"]),\n",
    "                                  (\"CompetitionSinceMonth\", SimpleImputer(strategy='constant'), [\"CompetitionOpenSinceMonth\"]),\n",
    "                                  (\"CompetitionSinceYear\", SimpleImputer(strategy='constant', fill_value=2016), [\"CompetitionOpenSinceYear\"]),\n",
    "                                  (\"nothing2\", VoidTransformer(), [\"Promo2\"]),\n",
    "                                  (\"Promo2SinceWeek\", SimpleImputer(strategy='constant'), [\"Promo2SinceWeek\"]),\n",
    "                                  (\"Promo2SinceYear\", SimpleImputer(strategy='constant', fill_value=2016), [\"Promo2SinceYear\"]),\n",
    "                                  (\"Categorical2\", nan_onehot_pipeline, [\"PromoInterval\"]),\n",
    "])\n",
    "\n",
    "stores_prepared = store_pipeline.fit_transform(store_raw)\n",
    "stores_prepared = pd.DataFrame(stores_prepared)\n",
    "stores_prepared.rename(columns = {0:'Store'}, inplace = True)"
   ]
  },
  {
   "cell_type": "code",
   "execution_count": 6,
   "metadata": {},
   "outputs": [],
   "source": [
    "train = train_prepared.merge(stores_prepared, on='Store', sort=False)\n",
    "test = test_prepared.merge(stores_prepared, on='Store', sort=False)"
   ]
  },
  {
   "cell_type": "code",
   "execution_count": 7,
   "metadata": {},
   "outputs": [],
   "source": [
    "test_labels = test[\"Sales\"]\n",
    "test_features = test.drop(\"Sales\", axis=1)\n",
    "train_labels = train[\"Sales\"]\n",
    "train_features = train.drop(\"Sales\", axis=1)"
   ]
  },
  {
   "cell_type": "code",
   "execution_count": 8,
   "metadata": {},
   "outputs": [],
   "source": [
    "import pandas as pd\n",
    "from sklearn import preprocessing\n",
    "\n",
    "x_scaled =  preprocessing.MinMaxScaler().fit_transform(train_features.values)\n",
    "train_features = pd.DataFrame(x_scaled)"
   ]
  },
  {
   "cell_type": "code",
   "execution_count": 9,
   "metadata": {},
   "outputs": [],
   "source": [
    "from tensorflow.keras import backend as K\n",
    "\n",
    "def rmspe(y_true, y_pred):\n",
    "    # return K.sqrt(K.mean(K.square((y_true - y_pred) / K.clip(K.abs(y_true),K.epsilon(),None) ), axis=-1) )\n",
    "    return K.sqrt(K.mean(K.square((y_true - y_pred) / (y_true+1)), axis=-1) )\n",
    "\n",
    "def rmse(y_true, y_pred):\n",
    "    return K.sqrt(K.mean(K.square(y_pred - y_true)))"
   ]
  },
  {
   "cell_type": "code",
   "execution_count": 18,
   "metadata": {},
   "outputs": [
    {
     "name": "stdout",
     "output_type": "stream",
     "text": "Train on 864627 samples, validate on 152582 samples\nEpoch 1/70\n864512/864627 [============================>.] - ETA: 0s - loss: 10727699.7342 - rmspe: 19.9129 - rmse: 2966.4651 - accuracy: 0.1482\nEpoch 00001: saving model to checkpoints/cp.ckpt\n864627/864627 [==============================] - 70s 81us/sample - loss: 10727243.4846 - rmspe: 19.9118 - rmse: 2966.4260 - accuracy: 0.1482 - val_loss: 6840153.6542 - val_rmspe: 19.6112 - val_rmse: 2219.1147 - val_accuracy: 0.1593\nEpoch 2/70\n864256/864627 [============================>.] - ETA: 0s - loss: 5563191.6134 - rmspe: 20.3042 - rmse: 2339.0178 - accuracy: 0.1445\nEpoch 00002: saving model to checkpoints/cp.ckpt\n864627/864627 [==============================] - 60s 69us/sample - loss: 5563808.7817 - rmspe: 20.3034 - rmse: 2339.1521 - accuracy: 0.1445 - val_loss: 6877653.5181 - val_rmspe: 16.3187 - val_rmse: 2232.0791 - val_accuracy: 0.1180\nEpoch 3/70\n864512/864627 [============================>.] - ETA: 0s - loss: 5443704.7254 - rmspe: 16.5477 - rmse: 2313.2971 - accuracy: 0.1111\nEpoch 00003: saving model to checkpoints/cp.ckpt\n864627/864627 [==============================] - 70s 81us/sample - loss: 5443782.1731 - rmspe: 16.5464 - rmse: 2313.3179 - accuracy: 0.1111 - val_loss: 6887309.4765 - val_rmspe: 17.6563 - val_rmse: 2216.5911 - val_accuracy: 0.0906\nEpoch 4/70\n864384/864627 [============================>.] - ETA: 0s - loss: 5343014.7012 - rmspe: 13.9878 - rmse: 2292.2400 - accuracy: 0.0779\nEpoch 00004: saving model to checkpoints/cp.ckpt\n864627/864627 [==============================] - 68s 78us/sample - loss: 5343159.9141 - rmspe: 13.9870 - rmse: 2292.2786 - accuracy: 0.0779 - val_loss: 6985306.4666 - val_rmspe: 9.8735 - val_rmse: 2228.7756 - val_accuracy: 0.0851\nEpoch 5/70\n864256/864627 [============================>.] - ETA: 0s - loss: 5284171.3667 - rmspe: 11.8166 - rmse: 2278.6338 - accuracy: 0.0560\nEpoch 00005: saving model to checkpoints/cp.ckpt\n864627/864627 [==============================] - 72s 83us/sample - loss: 5283747.8597 - rmspe: 11.8157 - rmse: 2278.5417 - accuracy: 0.0560 - val_loss: 6975549.5696 - val_rmspe: 7.5412 - val_rmse: 2218.4446 - val_accuracy: 0.0446\nEpoch 6/70\n864128/864627 [============================>.] - ETA: 0s - loss: 5234384.6689 - rmspe: 10.2463 - rmse: 2268.6514 - accuracy: 0.0398\nEpoch 00006: saving model to checkpoints/cp.ckpt\n864627/864627 [==============================] - 70s 82us/sample - loss: 5234257.4392 - rmspe: 10.2492 - rmse: 2268.6204 - accuracy: 0.0398 - val_loss: 7135138.1128 - val_rmspe: 5.8423 - val_rmse: 2249.9268 - val_accuracy: 0.0591\nEpoch 7/70\n864512/864627 [============================>.] - ETA: 0s - loss: 5190569.4136 - rmspe: 9.5794 - rmse: 2259.1699 - accuracy: 0.0366\nEpoch 00007: saving model to checkpoints/cp.ckpt\n864627/864627 [==============================] - 67s 77us/sample - loss: 5190463.8410 - rmspe: 9.5789 - rmse: 2259.1460 - accuracy: 0.0366 - val_loss: 7090170.1987 - val_rmspe: 7.4635 - val_rmse: 2265.3770 - val_accuracy: 0.0530\nEpoch 8/70\n864384/864627 [============================>.] - ETA: 0s - loss: 5149760.1000 - rmspe: 8.6629 - rmse: 2249.5173 - accuracy: 0.0305\nEpoch 00008: saving model to checkpoints/cp.ckpt\n864627/864627 [==============================] - 67s 78us/sample - loss: 5149539.8532 - rmspe: 8.6646 - rmse: 2249.4707 - accuracy: 0.0305 - val_loss: 7285884.6368 - val_rmspe: 7.2746 - val_rmse: 2309.7512 - val_accuracy: 0.0467\nEpoch 9/70\n864000/864627 [============================>.] - ETA: 0s - loss: 5114167.7421 - rmspe: 7.7238 - rmse: 2242.4465 - accuracy: 0.0234\nEpoch 00009: saving model to checkpoints/cp.ckpt\n864627/864627 [==============================] - 73s 85us/sample - loss: 5113631.7664 - rmspe: 7.7249 - rmse: 2242.3347 - accuracy: 0.0234 - val_loss: 7056257.5613 - val_rmspe: 3.4176 - val_rmse: 2226.4341 - val_accuracy: 0.0185\nEpoch 10/70\n864384/864627 [============================>.] - ETA: 0s - loss: 5084771.1068 - rmspe: 6.9731 - rmse: 2235.6257 - accuracy: 0.0153\nEpoch 00010: saving model to checkpoints/cp.ckpt\n864627/864627 [==============================] - 102s 118us/sample - loss: 5084927.8908 - rmspe: 6.9720 - rmse: 2235.6677 - accuracy: 0.0153 - val_loss: 7401614.0037 - val_rmspe: 4.6213 - val_rmse: 2316.6809 - val_accuracy: 0.0176\nEpoch 11/70\n864000/864627 [============================>.] - ETA: 0s - loss: 5056903.7619 - rmspe: 6.4117 - rmse: 2229.2126 - accuracy: 0.0124\nEpoch 00011: saving model to checkpoints/cp.ckpt\n864627/864627 [==============================] - 84s 97us/sample - loss: 5056827.4813 - rmspe: 6.4102 - rmse: 2229.2100 - accuracy: 0.0124 - val_loss: 7274051.8128 - val_rmspe: 3.1691 - val_rmse: 2290.1926 - val_accuracy: 0.0120\nEpoch 12/70\n864512/864627 [============================>.] - ETA: 0s - loss: 5034994.7383 - rmspe: 5.8093 - rmse: 2224.9084 - accuracy: 0.0103\nEpoch 00012: saving model to checkpoints/cp.ckpt\n864627/864627 [==============================] - 95s 110us/sample - loss: 5035008.1530 - rmspe: 5.8099 - rmse: 2224.9146 - accuracy: 0.0103 - val_loss: 7271678.7996 - val_rmspe: 4.1539 - val_rmse: 2298.5757 - val_accuracy: 0.0093\nEpoch 13/70\n864256/864627 [============================>.] - ETA: 0s - loss: 5010004.9883 - rmspe: 5.1876 - rmse: 2219.1887 - accuracy: 0.0087\nEpoch 00013: saving model to checkpoints/cp.ckpt\n864627/864627 [==============================] - 109s 126us/sample - loss: 5010028.9913 - rmspe: 5.1900 - rmse: 2219.1980 - accuracy: 0.0087 - val_loss: 7399928.2051 - val_rmspe: 2.3891 - val_rmse: 2346.8123 - val_accuracy: 0.0080\nEpoch 14/70\n864000/864627 [============================>.] - ETA: 0s - loss: 4992903.6121 - rmspe: 4.6529 - rmse: 2215.2021 - accuracy: 0.0071\nEpoch 00014: saving model to checkpoints/cp.ckpt\n864627/864627 [==============================] - 94s 109us/sample - loss: 4992411.3676 - rmspe: 4.6519 - rmse: 2215.1003 - accuracy: 0.0071 - val_loss: 7427804.5734 - val_rmspe: 5.3400 - val_rmse: 2324.3472 - val_accuracy: 0.0067\nEpoch 15/70\n864256/864627 [============================>.] - ETA: 0s - loss: 4970470.0080 - rmspe: 4.3834 - rmse: 2209.8889 - accuracy: 0.0065\nEpoch 00015: saving model to checkpoints/cp.ckpt\n864627/864627 [==============================] - 92s 106us/sample - loss: 4969867.8469 - rmspe: 4.3842 - rmse: 2209.7456 - accuracy: 0.0065 - val_loss: 7292334.1913 - val_rmspe: 2.7958 - val_rmse: 2276.4355 - val_accuracy: 0.0064\nEpoch 16/70\n864128/864627 [============================>.] - ETA: 0s - loss: 4955680.7870 - rmspe: 4.1141 - rmse: 2206.8198 - accuracy: 0.0060\nEpoch 00016: saving model to checkpoints/cp.ckpt\n864627/864627 [==============================] - 94s 108us/sample - loss: 4955110.0974 - rmspe: 4.1212 - rmse: 2206.6914 - accuracy: 0.0060 - val_loss: 7463340.2714 - val_rmspe: 2.8252 - val_rmse: 2316.6025 - val_accuracy: 0.0057\nEpoch 17/70\n864128/864627 [============================>.] - ETA: 0s - loss: 4934798.6209 - rmspe: 3.9610 - rmse: 2202.0005 - accuracy: 0.0055\nEpoch 00017: saving model to checkpoints/cp.ckpt\n864627/864627 [==============================] - 93s 108us/sample - loss: 4934718.0534 - rmspe: 3.9591 - rmse: 2201.9861 - accuracy: 0.0055 - val_loss: 7478325.5183 - val_rmspe: 3.1578 - val_rmse: 2313.4690 - val_accuracy: 0.0063\nEpoch 18/70\n863872/864627 [============================>.] - ETA: 0s - loss: 4917790.2524 - rmspe: 3.7875 - rmse: 2198.2429 - accuracy: 0.0057\nEpoch 00018: saving model to checkpoints/cp.ckpt\n864627/864627 [==============================] - 95s 110us/sample - loss: 4917304.8917 - rmspe: 3.7861 - rmse: 2198.1423 - accuracy: 0.0057 - val_loss: 7596387.5903 - val_rmspe: 3.5287 - val_rmse: 2370.0518 - val_accuracy: 0.0066\nEpoch 19/70\n864256/864627 [============================>.] - ETA: 0s - loss: 4899633.6050 - rmspe: 4.0760 - rmse: 2193.9683 - accuracy: 0.0062\nEpoch 00019: saving model to checkpoints/cp.ckpt\n864627/864627 [==============================] - 98s 113us/sample - loss: 4899543.5466 - rmspe: 4.0754 - rmse: 2193.9460 - accuracy: 0.0062 - val_loss: 7561018.9230 - val_rmspe: 2.9971 - val_rmse: 2313.2944 - val_accuracy: 0.0069\nEpoch 20/70\n376704/864627 [============>.................] - ETA: 57s - loss: 4871015.8558 - rmspe: 3.6477 - rmse: 2187.6516 - accuracy: 0.0061\nEpoch 00020: saving model to checkpoints/cp.ckpt\n376704/864627 [============>.................] - ETA: 57s - loss: 4871015.8558 - rmspe: 3.6477 - rmse: 2187.6516 - accuracy: 0.0061ERROR:root:Internal Python error in the inspect module.\nBelow is the traceback from this internal error.\n\nTraceback (most recent call last):\n  File \"/Users/edlgg/GoogleDrive/Essex/Neural Networks and Deep Learning/Project/Kaggle/AI/NN_Kaggle/venv/lib/python3.7/site-packages/IPython/core/interactiveshell.py\", line 3319, in run_code\n    exec(code_obj, self.user_global_ns, self.user_ns)\n  File \"<ipython-input-18-cce3969f5e04>\", line 26, in <module>\n    model.fit(train_features, train_labels.values, batch_size=128, validation_split=0.15, epochs=70, callbacks=[cp_callback])\n  File \"/Users/edlgg/GoogleDrive/Essex/Neural Networks and Deep Learning/Project/Kaggle/AI/NN_Kaggle/venv/lib/python3.7/site-packages/tensorflow_core/python/keras/engine/training.py\", line 728, in fit\n    use_multiprocessing=use_multiprocessing)\n  File \"/Users/edlgg/GoogleDrive/Essex/Neural Networks and Deep Learning/Project/Kaggle/AI/NN_Kaggle/venv/lib/python3.7/site-packages/tensorflow_core/python/keras/engine/training_v2.py\", line 324, in fit\n    total_epochs=epochs)\n  File \"/Users/edlgg/GoogleDrive/Essex/Neural Networks and Deep Learning/Project/Kaggle/AI/NN_Kaggle/venv/lib/python3.7/site-packages/tensorflow_core/python/keras/engine/training_v2.py\", line 174, in run_one_epoch\n    step += 1\n  File \"/usr/local/Cellar/python/3.7.4/Frameworks/Python.framework/Versions/3.7/lib/python3.7/contextlib.py\", line 119, in __exit__\n    next(self.gen)\n  File \"/Users/edlgg/GoogleDrive/Essex/Neural Networks and Deep Learning/Project/Kaggle/AI/NN_Kaggle/venv/lib/python3.7/site-packages/tensorflow_core/python/keras/engine/training_v2.py\", line 701, in on_batch\n    self.progbar.on_batch_end(step, batch_logs)\n  File \"/Users/edlgg/GoogleDrive/Essex/Neural Networks and Deep Learning/Project/Kaggle/AI/NN_Kaggle/venv/lib/python3.7/site-packages/tensorflow_core/python/keras/callbacks.py\", line 760, in on_batch_end\n    self.progbar.update(self.seen, self.log_values)\n  File \"/Users/edlgg/GoogleDrive/Essex/Neural Networks and Deep Learning/Project/Kaggle/AI/NN_Kaggle/venv/lib/python3.7/site-packages/tensorflow_core/python/keras/utils/generic_utils.py\", line 455, in update\n    sys.stdout.write(info)\n  File \"/Users/edlgg/GoogleDrive/Essex/Neural Networks and Deep Learning/Project/Kaggle/AI/NN_Kaggle/venv/lib/python3.7/site-packages/ipykernel/iostream.py\", line 402, in write\n    self.pub_thread.schedule(lambda : self._buffer.write(string))\n  File \"/Users/edlgg/GoogleDrive/Essex/Neural Networks and Deep Learning/Project/Kaggle/AI/NN_Kaggle/venv/lib/python3.7/site-packages/ipykernel/iostream.py\", line 205, in schedule\n    self._event_pipe.send(b'')\n  File \"/Users/edlgg/GoogleDrive/Essex/Neural Networks and Deep Learning/Project/Kaggle/AI/NN_Kaggle/venv/lib/python3.7/site-packages/zmq/sugar/socket.py\", line 400, in send\n    return super(Socket, self).send(data, flags=flags, copy=copy, track=track)\n  File \"zmq/backend/cython/socket.pyx\", line 728, in zmq.backend.cython.socket.Socket.send\n  File \"zmq/backend/cython/socket.pyx\", line 775, in zmq.backend.cython.socket.Socket.send\n  File \"zmq/backend/cython/socket.pyx\", line 242, in zmq.backend.cython.socket._send_copy\n  File \"zmq/backend/cython/checkrc.pxd\", line 12, in zmq.backend.cython.checkrc._check_rc\nKeyboardInterrupt\n\nDuring handling of the above exception, another exception occurred:\n\nTraceback (most recent call last):\n  File \"/Users/edlgg/GoogleDrive/Essex/Neural Networks and Deep Learning/Project/Kaggle/AI/NN_Kaggle/venv/lib/python3.7/site-packages/IPython/core/interactiveshell.py\", line 2034, in showtraceback\n    stb = value._render_traceback_()\nAttributeError: 'KeyboardInterrupt' object has no attribute '_render_traceback_'\n\nDuring handling of the above exception, another exception occurred:\n\nTraceback (most recent call last):\n  File \"/Users/edlgg/GoogleDrive/Essex/Neural Networks and Deep Learning/Project/Kaggle/AI/NN_Kaggle/venv/lib/python3.7/site-packages/IPython/core/ultratb.py\", line 1101, in get_records\n    return _fixed_getinnerframes(etb, number_of_lines_of_context, tb_offset)\n  File \"/Users/edlgg/GoogleDrive/Essex/Neural Networks and Deep Learning/Project/Kaggle/AI/NN_Kaggle/venv/lib/python3.7/site-packages/IPython/core/ultratb.py\", line 319, in wrapped\n    return f(*args, **kwargs)\n  File \"/Users/edlgg/GoogleDrive/Essex/Neural Networks and Deep Learning/Project/Kaggle/AI/NN_Kaggle/venv/lib/python3.7/site-packages/IPython/core/ultratb.py\", line 353, in _fixed_getinnerframes\n    records = fix_frame_records_filenames(inspect.getinnerframes(etb, context))\n  File \"/usr/local/Cellar/python/3.7.4/Frameworks/Python.framework/Versions/3.7/lib/python3.7/inspect.py\", line 1502, in getinnerframes\n    frameinfo = (tb.tb_frame,) + getframeinfo(tb, context)\n  File \"/usr/local/Cellar/python/3.7.4/Frameworks/Python.framework/Versions/3.7/lib/python3.7/inspect.py\", line 1460, in getframeinfo\n    filename = getsourcefile(frame) or getfile(frame)\n  File \"/usr/local/Cellar/python/3.7.4/Frameworks/Python.framework/Versions/3.7/lib/python3.7/inspect.py\", line 696, in getsourcefile\n    if getattr(getmodule(object, filename), '__loader__', None) is not None:\n  File \"/usr/local/Cellar/python/3.7.4/Frameworks/Python.framework/Versions/3.7/lib/python3.7/inspect.py\", line 732, in getmodule\n    for modname, module in list(sys.modules.items()):\nKeyboardInterrupt\n"
    },
    {
     "ename": "KeyboardInterrupt",
     "evalue": "",
     "output_type": "error",
     "traceback": [
      "\u001b[0;31m---------------------------------------------------------------------------\u001b[0m"
     ]
    }
   ],
   "source": [
    "from tensorflow.keras import layers, Sequential, callbacks\n",
    "from tensorflow.keras.optimizers import Adam\n",
    "from os import path\n",
    "\n",
    "train_features = pd.DataFrame(x_scaled)\n",
    "train_features = np.expand_dims(train_features, axis=-1)\n",
    "model = Sequential([\n",
    "              layers.Conv1D(filters=15, kernel_size=8, dilation_rate=2, activation='relu', input_shape=(train_features.shape[1],1)),\n",
    "              layers.Conv1D(filters=10, kernel_size=3, dilation_rate=2, activation='relu', input_shape=(train_features.shape[1],1)),\n",
    "              layers.Conv1D(filters=5, kernel_size=3, dilation_rate=2, activation='relu', input_shape=(train_features.shape[1],1)),\n",
    "              layers.Flatten(),\n",
    "              layers.BatchNormalization(),\n",
    "              # layers.MaxPool1D(),  \n",
    "              layers.Dense(20, activation='relu'),\n",
    "              layers.Dense(1)\n",
    "])\n",
    "\n",
    "model.compile(optimizer=Adam(),\n",
    "              loss='mse',\n",
    "              metrics=[rmspe, rmse, 'accuracy'])\n",
    "\n",
    "checkpoint_path = \"checkpoints/cp.ckpt\"\n",
    "checkpoint_dir = path.dirname(checkpoint_path)\n",
    "cp_callback = callbacks.ModelCheckpoint(filepath=checkpoint_path, save_weights_only=True, verbose=1)\n",
    "\n",
    "model.fit(train_features, train_labels.values, batch_size=256, validation_split=0.15, epochs=70, callbacks=[cp_callback])      "
   ]
  },
  {
   "cell_type": "code",
   "execution_count": 11,
   "metadata": {},
   "outputs": [],
   "source": [
    "test_features = np.expand_dims(test_features, axis=-1)\n",
    "predictions = model.predict(test_features)"
   ]
  },
  {
   "cell_type": "code",
   "execution_count": 12,
   "metadata": {},
   "outputs": [],
   "source": [
    "# standarisar datos\n",
    "# knn imputer\n",
    "# RMSPError\n",
    "# feature creation"
   ]
  },
  {
   "cell_type": "code",
   "execution_count": 13,
   "metadata": {},
   "outputs": [
    {
     "data": {
      "text/plain": "array([[3.5673318e+08],\n       [3.5673190e+08],\n       [3.5674810e+08],\n       [3.5674115e+08],\n       [3.5673952e+08],\n       [3.5674134e+08],\n       [3.5673840e+08],\n       [3.5673021e+08],\n       [3.5672883e+08],\n       [3.5674365e+08]], dtype=float32)"
     },
     "execution_count": 13,
     "metadata": {},
     "output_type": "execute_result"
    }
   ],
   "source": [
    "predictions[2000:2010]"
   ]
  },
  {
   "cell_type": "code",
   "execution_count": 14,
   "metadata": {},
   "outputs": [
    {
     "ename": "NameError",
     "evalue": "name 'test_y' is not defined",
     "output_type": "error",
     "traceback": [
      "\u001b[0;31m---------------------------------------------------------------------------\u001b[0m",
      "\u001b[0;31mNameError\u001b[0m                                 Traceback (most recent call last)",
      "\u001b[0;32m<ipython-input-14-64ca88a3bb43>\u001b[0m in \u001b[0;36m<module>\u001b[0;34m\u001b[0m\n\u001b[0;32m----> 1\u001b[0;31m \u001b[0mtest_y\u001b[0m\u001b[0;34m[\u001b[0m\u001b[0;36m2000\u001b[0m\u001b[0;34m:\u001b[0m\u001b[0;36m2010\u001b[0m\u001b[0;34m]\u001b[0m\u001b[0;34m\u001b[0m\u001b[0;34m\u001b[0m\u001b[0m\n\u001b[0m",
      "\u001b[0;31mNameError\u001b[0m: name 'test_y' is not defined"
     ]
    }
   ],
   "source": [
    "test_y[2000:2010]"
   ]
  },
  {
   "cell_type": "code",
   "execution_count": null,
   "metadata": {},
   "outputs": [],
   "source": []
  }
 ],
 "metadata": {
  "kernelspec": {
   "display_name": "Python3 (venv)",
   "language": "python",
   "name": "venv"
  },
  "language_info": {
   "codemirror_mode": {
    "name": "ipython",
    "version": 3
   },
   "file_extension": ".py",
   "mimetype": "text/x-python",
   "name": "python",
   "nbconvert_exporter": "python",
   "pygments_lexer": "ipython3",
   "version": "3.7.4"
  }
 },
 "nbformat": 4,
 "nbformat_minor": 2
}